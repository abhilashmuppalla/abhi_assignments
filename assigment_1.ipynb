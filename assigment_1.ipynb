{
 "cells": [
  {
   "cell_type": "code",
   "execution_count": 1,
   "metadata": {},
   "outputs": [],
   "source": [
    "#importing libraries\n",
    "import numpy as np\n",
    "import pandas as pd\n"
   ]
  },
  {
   "cell_type": "markdown",
   "metadata": {},
   "source": [
    "# Task 1"
   ]
  },
  {
   "cell_type": "markdown",
   "metadata": {},
   "source": [
    "# Q1) install jupyter noteook and run the first the program?"
   ]
  },
  {
   "cell_type": "code",
   "execution_count": 2,
   "metadata": {},
   "outputs": [
    {
     "name": "stdout",
     "output_type": "stream",
     "text": [
      "welcome to my jupyter notbook\n"
     ]
    }
   ],
   "source": [
    "print('welcome to my jupyter notbook')"
   ]
  },
  {
   "cell_type": "markdown",
   "metadata": {},
   "source": [
    "# Q2) Write a program which will find all such numbers which are divisible by 7 but are not a multiple of 5, between 2000 and 3200 (both included). The numbers obtained should be printed in a comma-separated sequence on a single line?\n"
   ]
  },
  {
   "cell_type": "code",
   "execution_count": 3,
   "metadata": {},
   "outputs": [
    {
     "name": "stdout",
     "output_type": "stream",
     "text": [
      "1519,1554,1589,1624,1659,1694,1729,1764,1799,1834,1869,1904,1939,1974,2009,2044,2079,2114,2149,2184,2219,2254,2289,2324,2359,2394,2429,2464,2499,2534,2569,2604,2639,2674\n"
     ]
    }
   ],
   "source": [
    "\n",
    "a = []\n",
    "for x in range(1500,2701):\n",
    "    if (x%7==0) and (~x%5==0):\n",
    "        a.append(str(x))\n",
    "print(','.join(a))\n"
   ]
  },
  {
   "cell_type": "markdown",
   "metadata": {},
   "source": [
    "# Q3)Write a Python program to accept the user's first and last name and then getting them printed in the the reverse order with a space between first name and last name?"
   ]
  },
  {
   "cell_type": "code",
   "execution_count": 4,
   "metadata": {},
   "outputs": [
    {
     "name": "stdout",
     "output_type": "stream",
     "text": [
      "Enter your First Name:abhilash\n",
      "Enter your Last Name:muppalla\n",
      "hello muppalla abhilash\n"
     ]
    }
   ],
   "source": [
    "fname = input(\"Enter your First Name:\")\n",
    "lname = input(\"Enter your Last Name:\")\n",
    "print('hello'+\" \" + lname+ \" \" +fname)"
   ]
  },
  {
   "cell_type": "markdown",
   "metadata": {},
   "source": [
    "# Q4) Write a Python program to find the volume of a sphere with diameter 12 cm. Formula: V=4/3 * π * r 3"
   ]
  },
  {
   "cell_type": "code",
   "execution_count": 5,
   "metadata": {},
   "outputs": [
    {
     "name": "stdout",
     "output_type": "stream",
     "text": [
      "Enter the value of diameter d is :12\n",
      " The diameter of the sphre d is:  12\n",
      "The radius f the sphere r is : 6.0\n",
      "The volume of sphere v is : 904.752\n"
     ]
    }
   ],
   "source": [
    "pi = 3.1415\n",
    "d = int(input(\"Enter the value of diameter d is :\"))\n",
    "print(\" The diameter of the sphre d is: \", d)\n",
    "r = d/2\n",
    "print(\"The radius f the sphere r is :\", r )\n",
    "v = 4/3*pi*r**3\n",
    "print(\"The volume of sphere v is :\", v)"
   ]
  },
  {
   "cell_type": "markdown",
   "metadata": {},
   "source": [
    "# Task 2"
   ]
  },
  {
   "cell_type": "markdown",
   "metadata": {},
   "source": [
    "# Q1) Write a program which accepts a sequence of comma-separated numbers from console and generate a list?"
   ]
  },
  {
   "cell_type": "code",
   "execution_count": 6,
   "metadata": {},
   "outputs": [
    {
     "name": "stdout",
     "output_type": "stream",
     "text": [
      "Input some comma seprated numbers : 9,8,7,6,5,4,3,2,1\n",
      "List :  ['9', '8', '7', '6', '5', '4', '3', '2', '1']\n"
     ]
    }
   ],
   "source": [
    "values = input(\"Input some comma seprated numbers : \")\n",
    "list = values.split(\",\")\n",
    "print('List : ',list)"
   ]
  },
  {
   "cell_type": "markdown",
   "metadata": {},
   "source": [
    "# Q2) Create the pattern using nested for loop in Python."
   ]
  },
  {
   "cell_type": "code",
   "execution_count": 7,
   "metadata": {},
   "outputs": [
    {
     "name": "stdout",
     "output_type": "stream",
     "text": [
      "enter the value: 5\n",
      "the value of n is: 5\n",
      "\n",
      "* \n",
      "* * \n",
      "* * * \n",
      "* * * * \n",
      "* * * * * \n",
      "* * * * \n",
      "* * * \n",
      "* * \n",
      "* \n"
     ]
    }
   ],
   "source": [
    "n = int(input(\"enter the value: \"))\n",
    "print('the value of n is:',n)\n",
    "for i in range(n):\n",
    "    for j in range(i):\n",
    "        print ('* ', end=\"\")\n",
    "    print('')\n",
    "\n",
    "for i in range(n,0,-1):\n",
    "    for j in range(i):\n",
    "        print('* ', end=\"\")\n",
    "    print('')"
   ]
  },
  {
   "cell_type": "markdown",
   "metadata": {},
   "source": [
    "# Q3) Write a Python program to reverse a word after accepting the input from the user?"
   ]
  },
  {
   "cell_type": "code",
   "execution_count": 8,
   "metadata": {},
   "outputs": [
    {
     "name": "stdout",
     "output_type": "stream",
     "text": [
      "Input a word to reverse: abhilash\n",
      "hsalihba\n",
      "\n"
     ]
    }
   ],
   "source": [
    "word = input(\"Input a word to reverse: \")\n",
    "\n",
    "for char in range(len(word) - 1, -1, -1):\n",
    "  print(word[char], end=\"\")\n",
    "print(\"\\n\")\n"
   ]
  },
  {
   "cell_type": "markdown",
   "metadata": {},
   "source": [
    "# Q4) Write a Python Program to print the given string in the format specified in the sample output.\n",
    "WE, THE PEOPLE OF INDIA, having solemnly resolved to constitute India into a\n",
    "SOVEREIGN, SOCIALIST, SECULAR, DEMOCRATIC REPUBLIC and to secure to all\n",
    "its citizens\n",
    "\n",
    "\n",
    "Sample Output:\n",
    "\n",
    "\n",
    "WE, THE PEOPLE OF INDIA,\n",
    "        having solemnly resolved to constitute India into a SOVEREIGN, !\n",
    "                SOCIALIST, SECULAR, DEMOCRATIC REPUBLIC\n",
    "                and to secure to all its citizens\n"
   ]
  },
  {
   "cell_type": "code",
   "execution_count": 9,
   "metadata": {},
   "outputs": [
    {
     "name": "stdout",
     "output_type": "stream",
     "text": [
      " WE,THE PEOPLE OF INDIA,\n",
      "\t having solemnly resolved to constitute into a SOVEREIGN,\n",
      "\t\t SOCIALIST,SECULAR,DEMOCRATIC REPUBLIC \n",
      "\t\t and to secure to ll its citizens \n"
     ]
    }
   ],
   "source": [
    "print(' WE,THE PEOPLE OF INDIA,\\n\\t having solemnly resolved to constitute into a SOVEREIGN,\\n\\t\\t SOCIALIST,SECULAR,DEMOCRATIC REPUBLIC \\n\\t\\t and to secure to ll its citizens ')"
   ]
  },
  {
   "cell_type": "code",
   "execution_count": null,
   "metadata": {},
   "outputs": [],
   "source": []
  }
 ],
 "metadata": {
  "kernelspec": {
   "display_name": "Python 3",
   "language": "python",
   "name": "python3"
  },
  "language_info": {
   "codemirror_mode": {
    "name": "ipython",
    "version": 3
   },
   "file_extension": ".py",
   "mimetype": "text/x-python",
   "name": "python",
   "nbconvert_exporter": "python",
   "pygments_lexer": "ipython3",
   "version": "3.7.3"
  }
 },
 "nbformat": 4,
 "nbformat_minor": 2
}
